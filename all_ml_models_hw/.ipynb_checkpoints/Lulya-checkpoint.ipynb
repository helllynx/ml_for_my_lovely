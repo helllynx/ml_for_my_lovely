{
 "cells": [
  {
   "cell_type": "markdown",
   "metadata": {},
   "source": [
    "# Parkinsons Telemonitoring Data Set "
   ]
  },
  {
   "cell_type": "code",
   "execution_count": 1,
   "metadata": {},
   "outputs": [],
   "source": [
    "import pandas as pd\n",
    "import numpy as np\n",
    "import matplotlib.pyplot as plt\n",
    "from sklearn.linear_model import LinearRegression, Ridge, Lasso, ElasticNet\n",
    "from sklearn.metrics import r2_score, mean_squared_error\n",
    "from sklearn.cross_decomposition import PLSRegression\n",
    "from sklearn.svm import SVC\n",
    "from sklearn.neighbors import KNeighborsClassifier\n",
    "from sklearn.ensemble import RandomForestClassifier\n",
    "from sklearn.model_selection import GridSearchCV, train_test_split\n",
    "\n",
    "from pyearth import Earth\n",
    "import xgboost as xgb\n",
    "from xgboost import XGBClassifier\n",
    "\n",
    "import warnings\n",
    "warnings.filterwarnings('ignore')"
   ]
  },
  {
   "cell_type": "code",
   "execution_count": 2,
   "metadata": {},
   "outputs": [],
   "source": [
    "data = pd.read_csv('parkinsons_updrs.data')"
   ]
  },
  {
   "cell_type": "code",
   "execution_count": 3,
   "metadata": {},
   "outputs": [
    {
     "data": {
      "text/plain": [
       "array([ 1,  2,  3,  4,  5,  6,  7,  8,  9, 10, 11, 12, 13, 14, 15, 16, 17,\n",
       "       18, 19, 20, 21, 22, 23, 24, 25, 26, 27, 28, 29, 30, 31, 32, 33, 34,\n",
       "       35, 36, 37, 38, 39, 40, 41, 42])"
      ]
     },
     "execution_count": 3,
     "metadata": {},
     "output_type": "execute_result"
    }
   ],
   "source": [
    "data[\"subject#\"].unique()"
   ]
  },
  {
   "cell_type": "code",
   "execution_count": 4,
   "metadata": {},
   "outputs": [
    {
     "name": "stdout",
     "output_type": "stream",
     "text": [
      "<class 'pandas.core.frame.DataFrame'>\n",
      "RangeIndex: 5875 entries, 0 to 5874\n",
      "Data columns (total 22 columns):\n",
      "subject#         5875 non-null int64\n",
      "age              5875 non-null int64\n",
      "sex              5875 non-null int64\n",
      "test_time        5875 non-null float64\n",
      "motor_UPDRS      5875 non-null float64\n",
      "total_UPDRS      5875 non-null float64\n",
      "Jitter(%)        5875 non-null float64\n",
      "Jitter(Abs)      5875 non-null float64\n",
      "Jitter:RAP       5875 non-null float64\n",
      "Jitter:PPQ5      5875 non-null float64\n",
      "Jitter:DDP       5875 non-null float64\n",
      "Shimmer          5875 non-null float64\n",
      "Shimmer(dB)      5875 non-null float64\n",
      "Shimmer:APQ3     5875 non-null float64\n",
      "Shimmer:APQ5     5875 non-null float64\n",
      "Shimmer:APQ11    5875 non-null float64\n",
      "Shimmer:DDA      5875 non-null float64\n",
      "NHR              5875 non-null float64\n",
      "HNR              5875 non-null float64\n",
      "RPDE             5875 non-null float64\n",
      "DFA              5875 non-null float64\n",
      "PPE              5875 non-null float64\n",
      "dtypes: float64(19), int64(3)\n",
      "memory usage: 1009.8 KB\n"
     ]
    }
   ],
   "source": [
    "data.info()"
   ]
  },
  {
   "cell_type": "code",
   "execution_count": 5,
   "metadata": {},
   "outputs": [],
   "source": [
    "Y = data[[\"motor_UPDRS\", \"total_UPDRS\"]]\n",
    "X = data.drop([\"motor_UPDRS\", \"total_UPDRS\"], axis=1)"
   ]
  },
  {
   "cell_type": "code",
   "execution_count": 6,
   "metadata": {},
   "outputs": [
    {
     "data": {
      "text/html": [
       "<div>\n",
       "<style scoped>\n",
       "    .dataframe tbody tr th:only-of-type {\n",
       "        vertical-align: middle;\n",
       "    }\n",
       "\n",
       "    .dataframe tbody tr th {\n",
       "        vertical-align: top;\n",
       "    }\n",
       "\n",
       "    .dataframe thead th {\n",
       "        text-align: right;\n",
       "    }\n",
       "</style>\n",
       "<table border=\"1\" class=\"dataframe\">\n",
       "  <thead>\n",
       "    <tr style=\"text-align: right;\">\n",
       "      <th></th>\n",
       "      <th>0</th>\n",
       "      <th>1</th>\n",
       "      <th>2</th>\n",
       "      <th>3</th>\n",
       "      <th>4</th>\n",
       "    </tr>\n",
       "  </thead>\n",
       "  <tbody>\n",
       "    <tr>\n",
       "      <th>subject#</th>\n",
       "      <td>1.000000</td>\n",
       "      <td>1.000000</td>\n",
       "      <td>1.000000</td>\n",
       "      <td>1.000000</td>\n",
       "      <td>1.000000</td>\n",
       "    </tr>\n",
       "    <tr>\n",
       "      <th>age</th>\n",
       "      <td>72.000000</td>\n",
       "      <td>72.000000</td>\n",
       "      <td>72.000000</td>\n",
       "      <td>72.000000</td>\n",
       "      <td>72.000000</td>\n",
       "    </tr>\n",
       "    <tr>\n",
       "      <th>sex</th>\n",
       "      <td>0.000000</td>\n",
       "      <td>0.000000</td>\n",
       "      <td>0.000000</td>\n",
       "      <td>0.000000</td>\n",
       "      <td>0.000000</td>\n",
       "    </tr>\n",
       "    <tr>\n",
       "      <th>test_time</th>\n",
       "      <td>5.643100</td>\n",
       "      <td>12.666000</td>\n",
       "      <td>19.681000</td>\n",
       "      <td>25.647000</td>\n",
       "      <td>33.642000</td>\n",
       "    </tr>\n",
       "    <tr>\n",
       "      <th>Jitter(%)</th>\n",
       "      <td>0.006620</td>\n",
       "      <td>0.003000</td>\n",
       "      <td>0.004810</td>\n",
       "      <td>0.005280</td>\n",
       "      <td>0.003350</td>\n",
       "    </tr>\n",
       "    <tr>\n",
       "      <th>Jitter(Abs)</th>\n",
       "      <td>0.000034</td>\n",
       "      <td>0.000017</td>\n",
       "      <td>0.000025</td>\n",
       "      <td>0.000027</td>\n",
       "      <td>0.000020</td>\n",
       "    </tr>\n",
       "    <tr>\n",
       "      <th>Jitter:RAP</th>\n",
       "      <td>0.004010</td>\n",
       "      <td>0.001320</td>\n",
       "      <td>0.002050</td>\n",
       "      <td>0.001910</td>\n",
       "      <td>0.000930</td>\n",
       "    </tr>\n",
       "    <tr>\n",
       "      <th>Jitter:PPQ5</th>\n",
       "      <td>0.003170</td>\n",
       "      <td>0.001500</td>\n",
       "      <td>0.002080</td>\n",
       "      <td>0.002640</td>\n",
       "      <td>0.001300</td>\n",
       "    </tr>\n",
       "    <tr>\n",
       "      <th>Jitter:DDP</th>\n",
       "      <td>0.012040</td>\n",
       "      <td>0.003950</td>\n",
       "      <td>0.006160</td>\n",
       "      <td>0.005730</td>\n",
       "      <td>0.002780</td>\n",
       "    </tr>\n",
       "    <tr>\n",
       "      <th>Shimmer</th>\n",
       "      <td>0.025650</td>\n",
       "      <td>0.020240</td>\n",
       "      <td>0.016750</td>\n",
       "      <td>0.023090</td>\n",
       "      <td>0.017030</td>\n",
       "    </tr>\n",
       "    <tr>\n",
       "      <th>Shimmer(dB)</th>\n",
       "      <td>0.230000</td>\n",
       "      <td>0.179000</td>\n",
       "      <td>0.181000</td>\n",
       "      <td>0.327000</td>\n",
       "      <td>0.176000</td>\n",
       "    </tr>\n",
       "    <tr>\n",
       "      <th>Shimmer:APQ3</th>\n",
       "      <td>0.014380</td>\n",
       "      <td>0.009940</td>\n",
       "      <td>0.007340</td>\n",
       "      <td>0.011060</td>\n",
       "      <td>0.006790</td>\n",
       "    </tr>\n",
       "    <tr>\n",
       "      <th>Shimmer:APQ5</th>\n",
       "      <td>0.013090</td>\n",
       "      <td>0.010720</td>\n",
       "      <td>0.008440</td>\n",
       "      <td>0.012650</td>\n",
       "      <td>0.009290</td>\n",
       "    </tr>\n",
       "    <tr>\n",
       "      <th>Shimmer:APQ11</th>\n",
       "      <td>0.016620</td>\n",
       "      <td>0.016890</td>\n",
       "      <td>0.014580</td>\n",
       "      <td>0.019630</td>\n",
       "      <td>0.018190</td>\n",
       "    </tr>\n",
       "    <tr>\n",
       "      <th>Shimmer:DDA</th>\n",
       "      <td>0.043140</td>\n",
       "      <td>0.029820</td>\n",
       "      <td>0.022020</td>\n",
       "      <td>0.033170</td>\n",
       "      <td>0.020360</td>\n",
       "    </tr>\n",
       "    <tr>\n",
       "      <th>NHR</th>\n",
       "      <td>0.014290</td>\n",
       "      <td>0.011112</td>\n",
       "      <td>0.020220</td>\n",
       "      <td>0.027837</td>\n",
       "      <td>0.011625</td>\n",
       "    </tr>\n",
       "    <tr>\n",
       "      <th>HNR</th>\n",
       "      <td>21.640000</td>\n",
       "      <td>27.183000</td>\n",
       "      <td>23.047000</td>\n",
       "      <td>24.445000</td>\n",
       "      <td>26.126000</td>\n",
       "    </tr>\n",
       "    <tr>\n",
       "      <th>RPDE</th>\n",
       "      <td>0.418880</td>\n",
       "      <td>0.434930</td>\n",
       "      <td>0.462220</td>\n",
       "      <td>0.487300</td>\n",
       "      <td>0.471880</td>\n",
       "    </tr>\n",
       "    <tr>\n",
       "      <th>DFA</th>\n",
       "      <td>0.548420</td>\n",
       "      <td>0.564770</td>\n",
       "      <td>0.544050</td>\n",
       "      <td>0.577940</td>\n",
       "      <td>0.561220</td>\n",
       "    </tr>\n",
       "    <tr>\n",
       "      <th>PPE</th>\n",
       "      <td>0.160060</td>\n",
       "      <td>0.108100</td>\n",
       "      <td>0.210140</td>\n",
       "      <td>0.332770</td>\n",
       "      <td>0.193610</td>\n",
       "    </tr>\n",
       "  </tbody>\n",
       "</table>\n",
       "</div>"
      ],
      "text/plain": [
       "                       0          1          2          3          4\n",
       "subject#        1.000000   1.000000   1.000000   1.000000   1.000000\n",
       "age            72.000000  72.000000  72.000000  72.000000  72.000000\n",
       "sex             0.000000   0.000000   0.000000   0.000000   0.000000\n",
       "test_time       5.643100  12.666000  19.681000  25.647000  33.642000\n",
       "Jitter(%)       0.006620   0.003000   0.004810   0.005280   0.003350\n",
       "Jitter(Abs)     0.000034   0.000017   0.000025   0.000027   0.000020\n",
       "Jitter:RAP      0.004010   0.001320   0.002050   0.001910   0.000930\n",
       "Jitter:PPQ5     0.003170   0.001500   0.002080   0.002640   0.001300\n",
       "Jitter:DDP      0.012040   0.003950   0.006160   0.005730   0.002780\n",
       "Shimmer         0.025650   0.020240   0.016750   0.023090   0.017030\n",
       "Shimmer(dB)     0.230000   0.179000   0.181000   0.327000   0.176000\n",
       "Shimmer:APQ3    0.014380   0.009940   0.007340   0.011060   0.006790\n",
       "Shimmer:APQ5    0.013090   0.010720   0.008440   0.012650   0.009290\n",
       "Shimmer:APQ11   0.016620   0.016890   0.014580   0.019630   0.018190\n",
       "Shimmer:DDA     0.043140   0.029820   0.022020   0.033170   0.020360\n",
       "NHR             0.014290   0.011112   0.020220   0.027837   0.011625\n",
       "HNR            21.640000  27.183000  23.047000  24.445000  26.126000\n",
       "RPDE            0.418880   0.434930   0.462220   0.487300   0.471880\n",
       "DFA             0.548420   0.564770   0.544050   0.577940   0.561220\n",
       "PPE             0.160060   0.108100   0.210140   0.332770   0.193610"
      ]
     },
     "execution_count": 6,
     "metadata": {},
     "output_type": "execute_result"
    }
   ],
   "source": [
    "X.head().T"
   ]
  },
  {
   "cell_type": "code",
   "execution_count": 7,
   "metadata": {},
   "outputs": [
    {
     "data": {
      "text/html": [
       "<div>\n",
       "<style scoped>\n",
       "    .dataframe tbody tr th:only-of-type {\n",
       "        vertical-align: middle;\n",
       "    }\n",
       "\n",
       "    .dataframe tbody tr th {\n",
       "        vertical-align: top;\n",
       "    }\n",
       "\n",
       "    .dataframe thead th {\n",
       "        text-align: right;\n",
       "    }\n",
       "</style>\n",
       "<table border=\"1\" class=\"dataframe\">\n",
       "  <thead>\n",
       "    <tr style=\"text-align: right;\">\n",
       "      <th></th>\n",
       "      <th>0</th>\n",
       "      <th>1</th>\n",
       "      <th>2</th>\n",
       "      <th>3</th>\n",
       "      <th>4</th>\n",
       "    </tr>\n",
       "  </thead>\n",
       "  <tbody>\n",
       "    <tr>\n",
       "      <th>motor_UPDRS</th>\n",
       "      <td>28.199</td>\n",
       "      <td>28.447</td>\n",
       "      <td>28.695</td>\n",
       "      <td>28.905</td>\n",
       "      <td>29.187</td>\n",
       "    </tr>\n",
       "    <tr>\n",
       "      <th>total_UPDRS</th>\n",
       "      <td>34.398</td>\n",
       "      <td>34.894</td>\n",
       "      <td>35.389</td>\n",
       "      <td>35.810</td>\n",
       "      <td>36.375</td>\n",
       "    </tr>\n",
       "  </tbody>\n",
       "</table>\n",
       "</div>"
      ],
      "text/plain": [
       "                  0       1       2       3       4\n",
       "motor_UPDRS  28.199  28.447  28.695  28.905  29.187\n",
       "total_UPDRS  34.398  34.894  35.389  35.810  36.375"
      ]
     },
     "execution_count": 7,
     "metadata": {},
     "output_type": "execute_result"
    }
   ],
   "source": [
    "Y.head().T"
   ]
  },
  {
   "cell_type": "code",
   "execution_count": 8,
   "metadata": {},
   "outputs": [],
   "source": [
    "# choose total_UPDRS as predictable value\n",
    "Y = Y['total_UPDRS']\n",
    "Y_bool = (Y>30)*1"
   ]
  },
  {
   "cell_type": "code",
   "execution_count": 9,
   "metadata": {},
   "outputs": [
    {
     "data": {
      "image/png": "[encoded data removed]",
      "text/plain": [
       "<Figure size 432x288 with 1 Axes>"
      ]
     },
     "metadata": {
      "needs_background": "light"
     },
     "output_type": "display_data"
    }
   ],
   "source": [
    "plt.hist(Y, label=\"total_UPDRS\");"
   ]
  },
  {
   "cell_type": "code",
   "execution_count": 10,
   "metadata": {
    "scrolled": true
   },
   "outputs": [
    {
     "data": {
      "image/png": "[encoded data removed]",
      "text/plain": [
       "<Figure size 432x288 with 1 Axes>"
      ]
     },
     "metadata": {
      "needs_background": "light"
     },
     "output_type": "display_data"
    }
   ],
   "source": [
    "plt.hist(X['age'], label=\"age\");\n"
   ]
  },
  {
   "cell_type": "code",
   "execution_count": 11,
   "metadata": {},
   "outputs": [
    {
     "data": {
      "image/png": "[encoded data removed]",
      "text/plain": [
       "<Figure size 432x288 with 1 Axes>"
      ]
     },
     "metadata": {
      "needs_background": "light"
     },
     "output_type": "display_data"
    }
   ],
   "source": [
    "plt.hist(Y_bool, label=\"UPDRS>30\");\n"
   ]
  },
  {
   "cell_type": "code",
   "execution_count": 12,
   "metadata": {},
   "outputs": [],
   "source": [
    "def scores_r2_mse(x, y):\n",
    "    print(\"R2: \" + str(r2_score(x, y)))\n",
    "    print(\"MSE: \" + str(mean_squared_error(x, y)))"
   ]
  },
  {
   "cell_type": "code",
   "execution_count": 13,
   "metadata": {},
   "outputs": [],
   "source": [
    "X_train, X_test, y_train, y_test = train_test_split(X, Y, test_size=0.2, random_state=0)\n",
    "X_train_clsf, X_test_clsf, y_train_clsf, y_test_clsf = train_test_split(X, Y_bool, test_size=0.2, random_state=0)"
   ]
  },
  {
   "cell_type": "markdown",
   "metadata": {},
   "source": [
    "## Linear regression"
   ]
  },
  {
   "cell_type": "code",
   "execution_count": 14,
   "metadata": {},
   "outputs": [],
   "source": [
    "lin_reg = LinearRegression().fit(X_train, y_train)"
   ]
  },
  {
   "cell_type": "code",
   "execution_count": 15,
   "metadata": {},
   "outputs": [
    {
     "name": "stdout",
     "output_type": "stream",
     "text": [
      "R2: -1.9439804553893794\n",
      "MSE: 85.58900545657737\n"
     ]
    }
   ],
   "source": [
    "scores_r2_mse(lin_reg.predict(X_test), y_test)"
   ]
  },
  {
   "cell_type": "markdown",
   "metadata": {},
   "source": [
    "##  Ridge regression"
   ]
  },
  {
   "cell_type": "code",
   "execution_count": 16,
   "metadata": {},
   "outputs": [],
   "source": [
    "ridge = Ridge()\n",
    "parameters = {'alpha':[0.1, 0.3, 0.5, 1]}\n",
    "ridge_gs = GridSearchCV(ridge, parameters).fit(X_train, y_train)"
   ]
  },
  {
   "cell_type": "code",
   "execution_count": 17,
   "metadata": {},
   "outputs": [
    {
     "data": {
      "text/plain": [
       "Ridge(alpha=0.1, copy_X=True, fit_intercept=True, max_iter=None,\n",
       "   normalize=False, random_state=None, solver='auto', tol=0.001)"
      ]
     },
     "execution_count": 17,
     "metadata": {},
     "output_type": "execute_result"
    }
   ],
   "source": [
    "ridge_gs.best_estimator_"
   ]
  },
  {
   "cell_type": "code",
   "execution_count": 18,
   "metadata": {},
   "outputs": [
    {
     "name": "stdout",
     "output_type": "stream",
     "text": [
      "R2: -2.080906549912062\n",
      "MSE: 85.78299998054402\n"
     ]
    }
   ],
   "source": [
    "scores_r2_mse(ridge_gs.predict(X_test), y_test)"
   ]
  },
  {
   "cell_type": "markdown",
   "metadata": {},
   "source": [
    "## Lasso"
   ]
  },
  {
   "cell_type": "code",
   "execution_count": 19,
   "metadata": {},
   "outputs": [],
   "source": [
    "lasso = Lasso()\n",
    "parameters = {'alpha':[0.1, 0.3, 0.5, 1]}\n",
    "lasso_gs = GridSearchCV(lasso, parameters).fit(X_train, y_train)"
   ]
  },
  {
   "cell_type": "code",
   "execution_count": 20,
   "metadata": {},
   "outputs": [
    {
     "data": {
      "text/plain": [
       "Lasso(alpha=0.1, copy_X=True, fit_intercept=True, max_iter=1000,\n",
       "   normalize=False, positive=False, precompute=False, random_state=None,\n",
       "   selection='cyclic', tol=0.0001, warm_start=False)"
      ]
     },
     "execution_count": 20,
     "metadata": {},
     "output_type": "execute_result"
    }
   ],
   "source": [
    "lasso_gs.best_estimator_"
   ]
  },
  {
   "cell_type": "code",
   "execution_count": 21,
   "metadata": {},
   "outputs": [
    {
     "name": "stdout",
     "output_type": "stream",
     "text": [
      "R2: -2.8733658069714427\n",
      "MSE: 88.64161991205926\n"
     ]
    }
   ],
   "source": [
    "scores_r2_mse(lasso_gs.predict(X_test), y_test)"
   ]
  },
  {
   "cell_type": "markdown",
   "metadata": {},
   "source": [
    "## Elastic net"
   ]
  },
  {
   "cell_type": "code",
   "execution_count": 22,
   "metadata": {},
   "outputs": [],
   "source": [
    "elastic = ElasticNet()\n",
    "parameters = {'alpha':[0.1, 0.3, 0.5, 1]}\n",
    "elastic_gs = GridSearchCV(elastic, parameters).fit(X_train, y_train)"
   ]
  },
  {
   "cell_type": "code",
   "execution_count": 23,
   "metadata": {},
   "outputs": [
    {
     "data": {
      "text/plain": [
       "ElasticNet(alpha=0.1, copy_X=True, fit_intercept=True, l1_ratio=0.5,\n",
       "      max_iter=1000, normalize=False, positive=False, precompute=False,\n",
       "      random_state=None, selection='cyclic', tol=0.0001, warm_start=False)"
      ]
     },
     "execution_count": 23,
     "metadata": {},
     "output_type": "execute_result"
    }
   ],
   "source": [
    "elastic_gs.best_estimator_"
   ]
  },
  {
   "cell_type": "code",
   "execution_count": 24,
   "metadata": {},
   "outputs": [
    {
     "name": "stdout",
     "output_type": "stream",
     "text": [
      "R2: -3.049990133556099\n",
      "MSE: 89.56708484151783\n"
     ]
    }
   ],
   "source": [
    "scores_r2_mse(elastic_gs.predict(X_test), y_test)"
   ]
  },
  {
   "cell_type": "markdown",
   "metadata": {},
   "source": [
    "## PLS regression"
   ]
  },
  {
   "cell_type": "code",
   "execution_count": 25,
   "metadata": {},
   "outputs": [],
   "source": [
    "pls2 = PLSRegression()\n",
    "parameters = {'n_components':list(range(1, 5))}\n",
    "pls2_gs = GridSearchCV(pls2, parameters).fit(X_train, y_train)"
   ]
  },
  {
   "cell_type": "code",
   "execution_count": 26,
   "metadata": {},
   "outputs": [
    {
     "data": {
      "text/plain": [
       "PLSRegression(copy=True, max_iter=500, n_components=4, scale=True, tol=1e-06)"
      ]
     },
     "execution_count": 26,
     "metadata": {},
     "output_type": "execute_result"
    }
   ],
   "source": [
    "pls2_gs.best_estimator_"
   ]
  },
  {
   "cell_type": "code",
   "execution_count": 27,
   "metadata": {},
   "outputs": [
    {
     "name": "stdout",
     "output_type": "stream",
     "text": [
      "R2: -2.0478187500542084\n",
      "MSE: 85.77445448818582\n"
     ]
    }
   ],
   "source": [
    "scores_r2_mse(pls2_gs.predict(X_test), y_test)"
   ]
  },
  {
   "cell_type": "markdown",
   "metadata": {},
   "source": [
    "## MARS"
   ]
  },
  {
   "cell_type": "code",
   "execution_count": 28,
   "metadata": {},
   "outputs": [],
   "source": [
    "mars = Earth().fit(X_train, y_train)"
   ]
  },
  {
   "cell_type": "code",
   "execution_count": 29,
   "metadata": {},
   "outputs": [
    {
     "name": "stdout",
     "output_type": "stream",
     "text": [
      "R2: -1.098572062835955\n",
      "MSE: 79.77982489174599\n"
     ]
    }
   ],
   "source": [
    "scores_r2_mse(mars.predict(X_test), y_test)"
   ]
  },
  {
   "cell_type": "markdown",
   "metadata": {},
   "source": [
    "## SVM"
   ]
  },
  {
   "cell_type": "code",
   "execution_count": 30,
   "metadata": {},
   "outputs": [],
   "source": [
    "svc = SVC()\n",
    "parameters = {'C':[1, 2, 3, 5, 10, 20]}\n",
    "svm_gs = GridSearchCV(svc, parameters);\n",
    "svm_gs.fit(X_train_clsf, y_train_clsf);"
   ]
  },
  {
   "cell_type": "code",
   "execution_count": 31,
   "metadata": {},
   "outputs": [
    {
     "data": {
      "text/plain": [
       "SVC(C=10, cache_size=200, class_weight=None, coef0=0.0,\n",
       "  decision_function_shape='ovr', degree=3, gamma='auto_deprecated',\n",
       "  kernel='rbf', max_iter=-1, probability=False, random_state=None,\n",
       "  shrinking=True, tol=0.001, verbose=False)"
      ]
     },
     "execution_count": 31,
     "metadata": {},
     "output_type": "execute_result"
    }
   ],
   "source": [
    "svm_gs.best_estimator_"
   ]
  },
  {
   "cell_type": "code",
   "execution_count": 32,
   "metadata": {},
   "outputs": [
    {
     "name": "stdout",
     "output_type": "stream",
     "text": [
      "R2: 0.9792127377266696\n",
      "MSE: 0.005106382978723404\n"
     ]
    }
   ],
   "source": [
    "scores_r2_mse(svm_gs.predict(X_test_clsf), y_test_clsf)"
   ]
  },
  {
   "cell_type": "markdown",
   "metadata": {},
   "source": [
    "## Neural networks"
   ]
  },
  {
   "cell_type": "code",
   "execution_count": 33,
   "metadata": {},
   "outputs": [
    {
     "name": "stdout",
     "output_type": "stream",
     "text": [
      "WARNING:tensorflow:Falling back from v2 loop because of error: Failed to find data adapter that can handle input: <class 'pandas.core.frame.DataFrame'>, <class 'NoneType'>\n"
     ]
    },
    {
     "name": "stderr",
     "output_type": "stream",
     "text": [
      "Using TensorFlow backend.\n"
     ]
    },
    {
     "name": "stdout",
     "output_type": "stream",
     "text": [
      "Train on 4700 samples\n",
      "Epoch 1/100\n",
      "4700/4700 [==============================] - 0s 28us/sample - loss: 193.7537 - mae: 10.8149 - accuracy: 0.0000e+00\n",
      "Epoch 2/100\n",
      "4700/4700 [==============================] - 0s 23us/sample - loss: 112.1504 - mae: 8.3907 - accuracy: 0.0000e+00\n",
      "Epoch 3/100\n",
      "4700/4700 [==============================] - 0s 24us/sample - loss: 101.6403 - mae: 8.1056 - accuracy: 0.0000e+00\n",
      "Epoch 4/100\n",
      "4700/4700 [==============================] - 0s 25us/sample - loss: 97.2872 - mae: 7.9430 - accuracy: 0.0000e+00\n",
      "Epoch 5/100\n",
      "4700/4700 [==============================] - 0s 23us/sample - loss: 94.7846 - mae: 7.8980 - accuracy: 0.0000e+00\n",
      "Epoch 6/100\n",
      "4700/4700 [==============================] - 0s 23us/sample - loss: 94.6602 - mae: 7.9454 - accuracy: 0.0000e+00\n",
      "Epoch 7/100\n",
      "4700/4700 [==============================] - 0s 22us/sample - loss: 93.2827 - mae: 7.8665 - accuracy: 0.0000e+00\n",
      "Epoch 8/100\n",
      "4700/4700 [==============================] - 0s 26us/sample - loss: 93.6635 - mae: 7.9059 - accuracy: 0.0000e+00\n",
      "Epoch 9/100\n",
      "4700/4700 [==============================] - 0s 26us/sample - loss: 93.2829 - mae: 7.8902 - accuracy: 0.0000e+00\n",
      "Epoch 10/100\n",
      "4700/4700 [==============================] - 0s 25us/sample - loss: 93.3786 - mae: 7.9044 - accuracy: 0.0000e+00\n",
      "Epoch 11/100\n",
      "4700/4700 [==============================] - 0s 25us/sample - loss: 92.1428 - mae: 7.8499 - accuracy: 0.0000e+00\n",
      "Epoch 12/100\n",
      "4700/4700 [==============================] - 0s 36us/sample - loss: 93.2797 - mae: 7.8780 - accuracy: 0.0000e+00\n",
      "Epoch 13/100\n",
      "4700/4700 [==============================] - 0s 25us/sample - loss: 94.2864 - mae: 7.9585 - accuracy: 0.0000e+00\n",
      "Epoch 14/100\n",
      "4700/4700 [==============================] - 0s 29us/sample - loss: 92.8470 - mae: 7.8542 - accuracy: 0.0000e+00\n",
      "Epoch 15/100\n",
      "4700/4700 [==============================] - 0s 25us/sample - loss: 93.5990 - mae: 7.9110 - accuracy: 0.0000e+00\n",
      "Epoch 16/100\n",
      "4700/4700 [==============================] - 0s 26us/sample - loss: 92.8926 - mae: 7.8786 - accuracy: 0.0000e+00\n",
      "Epoch 17/100\n",
      "4700/4700 [==============================] - 0s 26us/sample - loss: 92.8803 - mae: 7.8716 - accuracy: 0.0000e+00\n",
      "Epoch 18/100\n",
      "4700/4700 [==============================] - 0s 24us/sample - loss: 92.5826 - mae: 7.8426 - accuracy: 0.0000e+00\n",
      "Epoch 19/100\n",
      "4700/4700 [==============================] - 0s 24us/sample - loss: 93.2824 - mae: 7.8708 - accuracy: 0.0000e+00\n",
      "Epoch 20/100\n",
      "4700/4700 [==============================] - 0s 25us/sample - loss: 92.7024 - mae: 7.8559 - accuracy: 0.0000e+00\n",
      "Epoch 21/100\n",
      "4700/4700 [==============================] - 0s 24us/sample - loss: 92.6280 - mae: 7.8723 - accuracy: 0.0000e+00\n",
      "Epoch 22/100\n",
      "4700/4700 [==============================] - 0s 24us/sample - loss: 92.6992 - mae: 7.8641 - accuracy: 0.0000e+00\n",
      "Epoch 23/100\n",
      "4700/4700 [==============================] - 0s 23us/sample - loss: 92.3410 - mae: 7.8374 - accuracy: 0.0000e+00\n",
      "Epoch 24/100\n",
      "4700/4700 [==============================] - 0s 23us/sample - loss: 92.4698 - mae: 7.8353 - accuracy: 0.0000e+00\n",
      "Epoch 25/100\n",
      "4700/4700 [==============================] - 0s 25us/sample - loss: 92.8982 - mae: 7.8789 - accuracy: 0.0000e+00\n",
      "Epoch 26/100\n",
      "4700/4700 [==============================] - 0s 23us/sample - loss: 92.8331 - mae: 7.8517 - accuracy: 0.0000e+00\n",
      "Epoch 27/100\n",
      "4700/4700 [==============================] - 0s 24us/sample - loss: 93.4795 - mae: 7.8889 - accuracy: 0.0000e+00\n",
      "Epoch 28/100\n",
      "4700/4700 [==============================] - 0s 24us/sample - loss: 93.4682 - mae: 7.9032 - accuracy: 0.0000e+00\n",
      "Epoch 29/100\n",
      "4700/4700 [==============================] - 0s 23us/sample - loss: 92.4184 - mae: 7.8406 - accuracy: 0.0000e+00\n",
      "Epoch 30/100\n",
      "4700/4700 [==============================] - 0s 29us/sample - loss: 92.5371 - mae: 7.8389 - accuracy: 0.0000e+00\n",
      "Epoch 31/100\n",
      "4700/4700 [==============================] - 0s 25us/sample - loss: 92.7249 - mae: 7.8555 - accuracy: 0.0000e+00\n",
      "Epoch 32/100\n",
      "4700/4700 [==============================] - 0s 24us/sample - loss: 92.2352 - mae: 7.8429 - accuracy: 0.0000e+00\n",
      "Epoch 33/100\n",
      "4700/4700 [==============================] - 0s 23us/sample - loss: 93.1304 - mae: 7.8696 - accuracy: 0.0000e+00\n",
      "Epoch 34/100\n",
      "4700/4700 [==============================] - 0s 26us/sample - loss: 92.3238 - mae: 7.8416 - accuracy: 0.0000e+00\n",
      "Epoch 35/100\n",
      "4700/4700 [==============================] - 0s 27us/sample - loss: 92.2986 - mae: 7.8355 - accuracy: 0.0000e+00\n",
      "Epoch 36/100\n",
      "4700/4700 [==============================] - 0s 28us/sample - loss: 92.2742 - mae: 7.8366 - accuracy: 0.0000e+00\n",
      "Epoch 37/100\n",
      "4700/4700 [==============================] - 0s 28us/sample - loss: 92.6241 - mae: 7.8570 - accuracy: 0.0000e+00\n",
      "Epoch 38/100\n",
      "4700/4700 [==============================] - 0s 26us/sample - loss: 92.8220 - mae: 7.8845 - accuracy: 0.0000e+00\n",
      "Epoch 39/100\n",
      "4700/4700 [==============================] - 0s 37us/sample - loss: 92.3247 - mae: 7.8212 - accuracy: 0.0000e+00\n",
      "Epoch 40/100\n",
      "4700/4700 [==============================] - 0s 32us/sample - loss: 92.1070 - mae: 7.8445 - accuracy: 0.0000e+00\n",
      "Epoch 41/100\n",
      "4700/4700 [==============================] - 0s 26us/sample - loss: 92.8997 - mae: 7.8633 - accuracy: 0.0000e+00\n",
      "Epoch 42/100\n",
      "4700/4700 [==============================] - 0s 25us/sample - loss: 92.1738 - mae: 7.8470 - accuracy: 0.0000e+00\n",
      "Epoch 43/100\n",
      "4700/4700 [==============================] - 0s 24us/sample - loss: 92.5047 - mae: 7.8534 - accuracy: 0.0000e+00\n",
      "Epoch 44/100\n",
      "4700/4700 [==============================] - 0s 25us/sample - loss: 92.1542 - mae: 7.8206 - accuracy: 0.0000e+00\n",
      "Epoch 45/100\n",
      "4700/4700 [==============================] - 0s 24us/sample - loss: 92.2283 - mae: 7.8456 - accuracy: 0.0000e+00\n",
      "Epoch 46/100\n",
      "4700/4700 [==============================] - 0s 23us/sample - loss: 92.4675 - mae: 7.8554 - accuracy: 0.0000e+00\n",
      "Epoch 47/100\n",
      "4700/4700 [==============================] - 0s 23us/sample - loss: 92.1430 - mae: 7.8263 - accuracy: 0.0000e+00\n",
      "Epoch 48/100\n",
      "4700/4700 [==============================] - 0s 22us/sample - loss: 91.8261 - mae: 7.8111 - accuracy: 0.0000e+00\n",
      "Epoch 49/100\n",
      "4700/4700 [==============================] - 0s 22us/sample - loss: 92.4512 - mae: 7.8384 - accuracy: 0.0000e+00\n",
      "Epoch 50/100\n",
      "4700/4700 [==============================] - 0s 24us/sample - loss: 92.2115 - mae: 7.8453 - accuracy: 0.0000e+00\n",
      "Epoch 51/100\n",
      "4700/4700 [==============================] - 0s 23us/sample - loss: 92.1311 - mae: 7.8273 - accuracy: 0.0000e+00\n",
      "Epoch 52/100\n",
      "4700/4700 [==============================] - 0s 23us/sample - loss: 91.7063 - mae: 7.8080 - accuracy: 0.0000e+00\n",
      "Epoch 53/100\n",
      "4700/4700 [==============================] - 0s 25us/sample - loss: 91.7923 - mae: 7.8250 - accuracy: 0.0000e+00\n",
      "Epoch 54/100\n",
      "4700/4700 [==============================] - 0s 25us/sample - loss: 91.9858 - mae: 7.8234 - accuracy: 0.0000e+00\n",
      "Epoch 55/100\n",
      "4700/4700 [==============================] - 0s 25us/sample - loss: 91.8018 - mae: 7.8172 - accuracy: 0.0000e+00\n",
      "Epoch 56/100\n",
      "4700/4700 [==============================] - 0s 26us/sample - loss: 91.8638 - mae: 7.8106 - accuracy: 0.0000e+00\n",
      "Epoch 57/100\n",
      "4700/4700 [==============================] - 0s 24us/sample - loss: 92.3325 - mae: 7.8495 - accuracy: 0.0000e+00\n",
      "Epoch 58/100\n",
      "4700/4700 [==============================] - 0s 24us/sample - loss: 92.2267 - mae: 7.8487 - accuracy: 0.0000e+00\n",
      "Epoch 59/100\n",
      "4700/4700 [==============================] - 0s 23us/sample - loss: 92.0657 - mae: 7.8177 - accuracy: 0.0000e+00\n",
      "Epoch 60/100\n",
      "4700/4700 [==============================] - 0s 23us/sample - loss: 91.8924 - mae: 7.8348 - accuracy: 0.0000e+00\n",
      "Epoch 61/100\n",
      "4700/4700 [==============================] - 0s 23us/sample - loss: 91.7739 - mae: 7.8304 - accuracy: 0.0000e+00\n",
      "Epoch 62/100\n",
      "4700/4700 [==============================] - 0s 23us/sample - loss: 92.3175 - mae: 7.8477 - accuracy: 0.0000e+00\n",
      "Epoch 63/100\n",
      "4700/4700 [==============================] - 0s 24us/sample - loss: 92.5062 - mae: 7.8416 - accuracy: 0.0000e+00\n",
      "Epoch 64/100\n",
      "4700/4700 [==============================] - 0s 23us/sample - loss: 91.6735 - mae: 7.8014 - accuracy: 0.0000e+00\n",
      "Epoch 65/100\n"
     ]
    },
    {
     "name": "stdout",
     "output_type": "stream",
     "text": [
      "4700/4700 [==============================] - 0s 23us/sample - loss: 91.8673 - mae: 7.8290 - accuracy: 0.0000e+00\n",
      "Epoch 66/100\n",
      "4700/4700 [==============================] - 0s 23us/sample - loss: 91.8370 - mae: 7.8064 - accuracy: 0.0000e+00\n",
      "Epoch 67/100\n",
      "4700/4700 [==============================] - 0s 23us/sample - loss: 91.7593 - mae: 7.8088 - accuracy: 0.0000e+00\n",
      "Epoch 68/100\n",
      "4700/4700 [==============================] - 0s 26us/sample - loss: 91.4834 - mae: 7.8152 - accuracy: 0.0000e+00\n",
      "Epoch 69/100\n",
      "4700/4700 [==============================] - 0s 30us/sample - loss: 91.7680 - mae: 7.8271 - accuracy: 0.0000e+00\n",
      "Epoch 70/100\n",
      "4700/4700 [==============================] - 0s 22us/sample - loss: 91.7936 - mae: 7.8136 - accuracy: 0.0000e+00\n",
      "Epoch 71/100\n",
      "4700/4700 [==============================] - 0s 24us/sample - loss: 92.0476 - mae: 7.8234 - accuracy: 0.0000e+00\n",
      "Epoch 72/100\n",
      "4700/4700 [==============================] - 0s 24us/sample - loss: 91.6183 - mae: 7.8159 - accuracy: 0.0000e+00\n",
      "Epoch 73/100\n",
      "4700/4700 [==============================] - 0s 22us/sample - loss: 92.0093 - mae: 7.8187 - accuracy: 0.0000e+00\n",
      "Epoch 74/100\n",
      "4700/4700 [==============================] - 0s 23us/sample - loss: 91.8724 - mae: 7.8139 - accuracy: 0.0000e+00\n",
      "Epoch 75/100\n",
      "4700/4700 [==============================] - 0s 29us/sample - loss: 92.7674 - mae: 7.8660 - accuracy: 0.0000e+00\n",
      "Epoch 76/100\n",
      "4700/4700 [==============================] - 0s 29us/sample - loss: 91.7326 - mae: 7.8174 - accuracy: 0.0000e+00\n",
      "Epoch 77/100\n",
      "4700/4700 [==============================] - 0s 23us/sample - loss: 91.5524 - mae: 7.8142 - accuracy: 0.0000e+00\n",
      "Epoch 78/100\n",
      "4700/4700 [==============================] - 0s 24us/sample - loss: 92.0064 - mae: 7.8295 - accuracy: 0.0000e+00\n",
      "Epoch 79/100\n",
      "4700/4700 [==============================] - 0s 23us/sample - loss: 91.5130 - mae: 7.7994 - accuracy: 0.0000e+00\n",
      "Epoch 80/100\n",
      "4700/4700 [==============================] - 0s 23us/sample - loss: 92.2841 - mae: 7.8356 - accuracy: 0.0000e+00\n",
      "Epoch 81/100\n",
      "4700/4700 [==============================] - 0s 25us/sample - loss: 91.5244 - mae: 7.8101 - accuracy: 0.0000e+00\n",
      "Epoch 82/100\n",
      "4700/4700 [==============================] - 0s 25us/sample - loss: 91.7913 - mae: 7.8287 - accuracy: 0.0000e+00\n",
      "Epoch 83/100\n",
      "4700/4700 [==============================] - 0s 23us/sample - loss: 92.2253 - mae: 7.8281 - accuracy: 0.0000e+00\n",
      "Epoch 84/100\n",
      "4700/4700 [==============================] - 0s 23us/sample - loss: 91.7006 - mae: 7.8054 - accuracy: 0.0000e+00\n",
      "Epoch 85/100\n",
      "4700/4700 [==============================] - 0s 23us/sample - loss: 91.9165 - mae: 7.8222 - accuracy: 0.0000e+00\n",
      "Epoch 86/100\n",
      "4700/4700 [==============================] - 0s 22us/sample - loss: 91.6274 - mae: 7.8074 - accuracy: 0.0000e+00\n",
      "Epoch 87/100\n",
      "4700/4700 [==============================] - 0s 22us/sample - loss: 91.5534 - mae: 7.7970 - accuracy: 0.0000e+00\n",
      "Epoch 88/100\n",
      "4700/4700 [==============================] - 0s 23us/sample - loss: 91.7682 - mae: 7.8372 - accuracy: 0.0000e+00\n",
      "Epoch 89/100\n",
      "4700/4700 [==============================] - 0s 23us/sample - loss: 91.5079 - mae: 7.8141 - accuracy: 0.0000e+00\n",
      "Epoch 90/100\n",
      "4700/4700 [==============================] - 0s 23us/sample - loss: 91.4107 - mae: 7.8036 - accuracy: 0.0000e+00\n",
      "Epoch 91/100\n",
      "4700/4700 [==============================] - 0s 23us/sample - loss: 91.8682 - mae: 7.8092 - accuracy: 0.0000e+00\n",
      "Epoch 92/100\n",
      "4700/4700 [==============================] - 0s 23us/sample - loss: 91.9727 - mae: 7.8354 - accuracy: 0.0000e+00\n",
      "Epoch 93/100\n",
      "4700/4700 [==============================] - 0s 23us/sample - loss: 91.7498 - mae: 7.7948 - accuracy: 0.0000e+00\n",
      "Epoch 94/100\n",
      "4700/4700 [==============================] - 0s 23us/sample - loss: 91.4295 - mae: 7.8069 - accuracy: 0.0000e+00\n",
      "Epoch 95/100\n",
      "4700/4700 [==============================] - 0s 23us/sample - loss: 91.1110 - mae: 7.7837 - accuracy: 0.0000e+00\n",
      "Epoch 96/100\n",
      "4700/4700 [==============================] - 0s 23us/sample - loss: 91.4681 - mae: 7.8029 - accuracy: 0.0000e+00\n",
      "Epoch 97/100\n",
      "4700/4700 [==============================] - 0s 23us/sample - loss: 92.4125 - mae: 7.8545 - accuracy: 0.0000e+00\n",
      "Epoch 98/100\n",
      "4700/4700 [==============================] - 0s 24us/sample - loss: 92.3129 - mae: 7.8376 - accuracy: 0.0000e+00\n",
      "Epoch 99/100\n",
      "4700/4700 [==============================] - 0s 24us/sample - loss: 91.2216 - mae: 7.8013 - accuracy: 0.0000e+00\n",
      "Epoch 100/100\n",
      "4700/4700 [==============================] - 0s 22us/sample - loss: 91.8296 - mae: 7.8132 - accuracy: 0.0000e+00\n",
      "WARNING:tensorflow:Falling back from v2 loop because of error: Failed to find data adapter that can handle input: <class 'pandas.core.frame.DataFrame'>, <class 'NoneType'>\n"
     ]
    }
   ],
   "source": [
    "from tensorflow.keras import Sequential\n",
    "from tensorflow.keras.layers import Dense\n",
    "\n",
    "def build_regressor():\n",
    "    regressor = Sequential()\n",
    "    regressor.add(Dense(units=20, input_dim=20))\n",
    "    regressor.add(Dense(units=1))\n",
    "    regressor.compile(optimizer='adam', loss='mean_squared_error',  metrics=['mae','accuracy'])\n",
    "    return regressor\n",
    "\n",
    "from keras.wrappers.scikit_learn import KerasRegressor\n",
    "\n",
    "regressor = KerasRegressor(build_fn=build_regressor, batch_size=32,epochs=100)\n",
    "regressor.fit(X_train,y_train)\n",
    "y_pred = regressor.predict(X_test)"
   ]
  },
  {
   "cell_type": "code",
   "execution_count": 34,
   "metadata": {},
   "outputs": [
    {
     "name": "stdout",
     "output_type": "stream",
     "text": [
      "WARNING:tensorflow:Falling back from v2 loop because of error: Failed to find data adapter that can handle input: <class 'pandas.core.frame.DataFrame'>, <class 'NoneType'>\n",
      "R2: -2.6066877827799457\n",
      "MSE: 90.35597760819212\n"
     ]
    }
   ],
   "source": [
    "scores_r2_mse(regressor.predict(X_test), y_test)"
   ]
  },
  {
   "cell_type": "code",
   "execution_count": 35,
   "metadata": {},
   "outputs": [
    {
     "data": {
      "image/png": "[encoded data removed]",
      "text/plain": [
       "<Figure size 432x288 with 1 Axes>"
      ]
     },
     "metadata": {
      "needs_background": "light"
     },
     "output_type": "display_data"
    }
   ],
   "source": [
    "fig, ax = plt.subplots()\n",
    "ax.scatter(y_test, y_pred)\n",
    "ax.plot([y_test.min(), y_test.max()], [y_test.min(), y_test.max()], 'k--', lw=4)\n",
    "plt.show()"
   ]
  },
  {
   "cell_type": "markdown",
   "metadata": {},
   "source": [
    "### KNN"
   ]
  },
  {
   "cell_type": "code",
   "execution_count": 36,
   "metadata": {},
   "outputs": [],
   "source": [
    "parameters = {'n_neighbors':list(range(2,10))}\n",
    "knn = KNeighborsClassifier()\n",
    "knn_gs = GridSearchCV(knn, parameters).fit(X_train_clsf, y_train_clsf)"
   ]
  },
  {
   "cell_type": "code",
   "execution_count": 37,
   "metadata": {},
   "outputs": [
    {
     "data": {
      "text/plain": [
       "KNeighborsClassifier(algorithm='auto', leaf_size=30, metric='minkowski',\n",
       "           metric_params=None, n_jobs=None, n_neighbors=2, p=2,\n",
       "           weights='uniform')"
      ]
     },
     "execution_count": 37,
     "metadata": {},
     "output_type": "execute_result"
    }
   ],
   "source": [
    "knn_gs.best_estimator_"
   ]
  },
  {
   "cell_type": "code",
   "execution_count": 38,
   "metadata": {},
   "outputs": [
    {
     "name": "stdout",
     "output_type": "stream",
     "text": [
      "R2: 0.9407210222989857\n",
      "MSE: 0.01446808510638298\n"
     ]
    }
   ],
   "source": [
    "scores_r2_mse(knn_gs.predict(X_test_clsf), y_test_clsf)"
   ]
  },
  {
   "cell_type": "markdown",
   "metadata": {},
   "source": [
    "### Random Forest"
   ]
  },
  {
   "cell_type": "code",
   "execution_count": 39,
   "metadata": {},
   "outputs": [],
   "source": [
    "parameters = {'n_estimators':[50, 100, 200], 'max_depth':[5, 10, 15, 20, 25]}\n",
    "rfclsf = RandomForestClassifier()\n",
    "rfclsf_gs = GridSearchCV(rfclsf, parameters).fit(X_train_clsf, y_train_clsf)"
   ]
  },
  {
   "cell_type": "code",
   "execution_count": 40,
   "metadata": {},
   "outputs": [
    {
     "data": {
      "text/plain": [
       "RandomForestClassifier(bootstrap=True, class_weight=None, criterion='gini',\n",
       "            max_depth=15, max_features='auto', max_leaf_nodes=None,\n",
       "            min_impurity_decrease=0.0, min_impurity_split=None,\n",
       "            min_samples_leaf=1, min_samples_split=2,\n",
       "            min_weight_fraction_leaf=0.0, n_estimators=200, n_jobs=None,\n",
       "            oob_score=False, random_state=None, verbose=0,\n",
       "            warm_start=False)"
      ]
     },
     "execution_count": 40,
     "metadata": {},
     "output_type": "execute_result"
    }
   ],
   "source": [
    "rfclsf_gs.best_estimator_"
   ]
  },
  {
   "cell_type": "code",
   "execution_count": 41,
   "metadata": {},
   "outputs": [
    {
     "name": "stdout",
     "output_type": "stream",
     "text": [
      "R2: 0.9102331294112116\n",
      "MSE: 0.022127659574468085\n"
     ]
    }
   ],
   "source": [
    "scores_r2_mse(rfclsf_gs.predict(X_test_clsf), y_test_clsf)"
   ]
  },
  {
   "cell_type": "markdown",
   "metadata": {},
   "source": [
    "## XGBoost"
   ]
  },
  {
   "cell_type": "code",
   "execution_count": 42,
   "metadata": {},
   "outputs": [],
   "source": [
    "xgb=XGBClassifier(random_state=1,learning_rate=0.5, n_jobs = -1).fit(X_train_clsf, y_train_clsf)"
   ]
  },
  {
   "cell_type": "code",
   "execution_count": 43,
   "metadata": {},
   "outputs": [
    {
     "name": "stdout",
     "output_type": "stream",
     "text": [
      "R2: 1.0\n",
      "MSE: 0.0\n"
     ]
    }
   ],
   "source": [
    "scores_r2_mse(xgb.predict(X_test_clsf), y_test_clsf)"
   ]
  }
 ],
 "metadata": {
  "kernelspec": {
   "display_name": "Python 3",
   "language": "python",
   "name": "python3"
  },
  "language_info": {
   "codemirror_mode": {
    "name": "ipython",
    "version": 3
   },
   "file_extension": ".py",
   "mimetype": "text/x-python",
   "name": "python",
   "nbconvert_exporter": "python",
   "pygments_lexer": "ipython3",
   "version": "3.7.4"
  }
 },
 "nbformat": 4,
 "nbformat_minor": 2
}
